{
 "cells": [
  {
   "cell_type": "code",
   "execution_count": 1,
   "metadata": {
    "id": "h66cKmYLmauO"
   },
   "outputs": [],
   "source": [
    "class CruiseController:\n",
    "  def __init__(self):\n",
    "    self.mapping = self.__get_mappings()\n",
    "    self.rule_base = self.__get_rules()\n",
    "    self.speed_mf = self.__get_speed_mf()\n",
    "    self.acc_mf = self.__get_acc_mf()\n",
    "    self.throttle_vals = self.__get_throttle_vals()\n",
    "    self.throttle_base = self.throttle_vals['PL'] - self.throttle_vals['ZE']\n",
    "\n",
    "  def __get_mappings(self):\n",
    "    return {\n",
    "        'NL': 0, # Negative Large\n",
    "        'NM': 1, # Negative Medium\n",
    "        'ZE': 2, # Zero\n",
    "        'PM': 3, # Positive Medium\n",
    "        'PL': 4  # Positive Large\n",
    "    }\n",
    "\n",
    "  def __get_rules(self):\n",
    "    return [\n",
    "            ['PL', 'PL', 'PL', 'PM', 'ZE'],\n",
    "            ['PL', 'PL', 'PM', 'ZE', 'NM'],\n",
    "            ['PL', 'PM', 'ZE', 'NM', 'NL'],\n",
    "            ['PM', 'ZE', 'NM', 'NL', 'NL'],\n",
    "            ['ZE', 'NM', 'NL', 'NL', 'NL'],\n",
    "    ]\n",
    "\n",
    "  def __get_speed_mf(self):\n",
    "    return {\n",
    "        'NL': lambda x : 1 if x < -100 else (0 if x > -50 else -0.02*x - 1),\n",
    "        'NM': lambda x : 0 if x < -100 or x > 0 else (0.02*x + 2 if x < -50 else -0.02*x),\n",
    "        'ZE': lambda x : 0 if abs(x) > 50 else (0.02*x + 1 if x < 0 else -0.02*x + 1),\n",
    "        'PM': lambda x : 0 if x > 100 or x < 0 else (-0.02*x + 2 if x > 50 else 0.02*x),\n",
    "        'PL': lambda x : 1 if x > 100 else (0 if x < 50 else 0.02*x - 1)\n",
    "    }\n",
    "\n",
    "  def __get_acc_mf(self):\n",
    "    return {\n",
    "        'NL': lambda x : 1 if x < -40 else (0 if x > -20 else -0.05*x - 1),\n",
    "        'NM': lambda x : 0 if x < -40 or x > 0 else (0.05*x + 2 if x < -20 else -0.05*x),\n",
    "        'ZE': lambda x : 0 if abs(x) > 20 else (0.05*x + 1 if x < 0 else -0.05*x + 1),\n",
    "        'PM': lambda x : 0 if x > 40 or x < 0 else (-0.05*x + 2 if x > 20 else 0.05*x),\n",
    "        'PL': lambda x : 1 if x > 40 else (0 if x < 20 else 0.05*x - 1)\n",
    "    }\n",
    "\n",
    "  def __get_throttle_vals(self):\n",
    "    return {\n",
    "        'NL': -20,\n",
    "        'NM': -10,\n",
    "        'ZE':   0,\n",
    "        'PM':  10,\n",
    "        'PL':  20\n",
    "    }\n",
    "\n",
    "  def __crisp_to_fuzzy(self, val, mf):\n",
    "    fuzzy_values = []\n",
    "    for x, myu_x in mf.items():\n",
    "      if myu_x(val) > 0: fuzzy_values.append((x, myu_x(val)))\n",
    "    return fuzzy_values\n",
    "\n",
    "  def __fuzzify(self, speed_diff, acc):\n",
    "    return self.__crisp_to_fuzzy(speed_diff, self.speed_mf), self.__crisp_to_fuzzy(acc, self.acc_mf)\n",
    "\n",
    "  def __apply_rule_base(self, speed, acc):\n",
    "    throttle_fuzzy = []\n",
    "    for s in speed:\n",
    "      for a in acc:\n",
    "        i, j = self.mapping[s[0]], self.mapping[a[0]]\n",
    "        throttle_fuzzy.append((self.rule_base[i][j], min(s[1], a[1])))\n",
    "    return throttle_fuzzy\n",
    "\n",
    "  def __get_throttle_area(self, x):\n",
    "    y = self.throttle_base * x\n",
    "    return 0.5 * (self.throttle_base - (1 - x) * y)\n",
    "\n",
    "  def __defuzzify(self, throttle_fuzzy):\n",
    "    areas = []\n",
    "    for tf in throttle_fuzzy:\n",
    "      areas.append((self.throttle_vals[tf[0]], self.__get_throttle_area(tf[1])))\n",
    "    throttle = 0\n",
    "    total_area = 0\n",
    "    for a in areas:\n",
    "      throttle += a[0] * a[1]\n",
    "      total_area += a[1]\n",
    "    return throttle / total_area\n",
    "\n",
    "  def get_throttle(self, speed_diff, acc):\n",
    "    speed_fuzzy, acc_fuzzy = self.__fuzzify(speed_diff, acc)\n",
    "    throttle_fuzzy = self.__apply_rule_base(speed_fuzzy, acc_fuzzy)\n",
    "    throttle = self.__defuzzify(throttle_fuzzy)\n",
    "    return throttle"
   ]
  },
  {
   "cell_type": "code",
   "execution_count": 2,
   "metadata": {
    "id": "6Hjb7HAnvJ9M"
   },
   "outputs": [],
   "source": [
    "controller = CruiseController()"
   ]
  },
  {
   "cell_type": "code",
   "execution_count": 3,
   "metadata": {
    "id": "IgkuZXi1vKAm"
   },
   "outputs": [],
   "source": [
    "throttle = controller.get_throttle(speed_diff = -75, acc = 35)"
   ]
  },
  {
   "cell_type": "code",
   "execution_count": 4,
   "metadata": {
    "colab": {
     "base_uri": "https://localhost:8080/"
    },
    "id": "Glsk_V4945Fv",
    "outputId": "830c6b90-6c9f-4423-ee27-d428502c8da1"
   },
   "outputs": [
    {
     "name": "stdout",
     "output_type": "stream",
     "text": [
      "Throttle: 0.2\n"
     ]
    }
   ],
   "source": [
    "print(f'Throttle: {throttle}')"
   ]
  }
 ],
 "metadata": {
  "colab": {
   "name": "SCOA_M2.ipynb",
   "provenance": []
  },
  "kernelspec": {
   "display_name": "Python 3 (ipykernel)",
   "language": "python",
   "name": "python3"
  },
  "language_info": {
   "codemirror_mode": {
    "name": "ipython",
    "version": 3
   },
   "file_extension": ".py",
   "mimetype": "text/x-python",
   "name": "python",
   "nbconvert_exporter": "python",
   "pygments_lexer": "ipython3",
   "version": "3.9.7"
  }
 },
 "nbformat": 4,
 "nbformat_minor": 1
}
